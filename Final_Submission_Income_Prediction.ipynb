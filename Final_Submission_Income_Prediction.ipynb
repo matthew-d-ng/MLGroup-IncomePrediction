{
 "cells": [
  {
   "cell_type": "code",
   "execution_count": 2,
   "metadata": {},
   "outputs": [
    {
     "name": "stdout",
     "output_type": "stream",
     "text": [
      "Collecting category-encoders\n",
      "  Downloading https://files.pythonhosted.org/packages/a0/52/c54191ad3782de633ea3d6ee3bb2837bda0cf3bc97644bb6375cf14150a0/category_encoders-2.1.0-py2.py3-none-any.whl (100kB)\n",
      "Requirement already satisfied: statsmodels>=0.6.1 in c:\\users\\sofib\\appdata\\local\\continuum\\anaconda3\\lib\\site-packages (from category-encoders) (0.10.1)\n",
      "Requirement already satisfied: scipy>=0.19.0 in c:\\users\\sofib\\appdata\\local\\continuum\\anaconda3\\lib\\site-packages (from category-encoders) (1.3.1)\n",
      "Requirement already satisfied: numpy>=1.11.3 in c:\\users\\sofib\\appdata\\local\\continuum\\anaconda3\\lib\\site-packages (from category-encoders) (1.16.5)\n",
      "Requirement already satisfied: scikit-learn>=0.20.0 in c:\\users\\sofib\\appdata\\local\\continuum\\anaconda3\\lib\\site-packages (from category-encoders) (0.21.3)\n",
      "Requirement already satisfied: patsy>=0.4.1 in c:\\users\\sofib\\appdata\\local\\continuum\\anaconda3\\lib\\site-packages (from category-encoders) (0.5.1)\n",
      "Requirement already satisfied: pandas>=0.21.1 in c:\\users\\sofib\\appdata\\local\\continuum\\anaconda3\\lib\\site-packages (from category-encoders) (0.25.1)\n",
      "Requirement already satisfied: joblib>=0.11 in c:\\users\\sofib\\appdata\\local\\continuum\\anaconda3\\lib\\site-packages (from scikit-learn>=0.20.0->category-encoders) (0.13.2)\n",
      "Requirement already satisfied: six in c:\\users\\sofib\\appdata\\local\\continuum\\anaconda3\\lib\\site-packages (from patsy>=0.4.1->category-encoders) (1.12.0)\n",
      "Requirement already satisfied: python-dateutil>=2.6.1 in c:\\users\\sofib\\appdata\\local\\continuum\\anaconda3\\lib\\site-packages (from pandas>=0.21.1->category-encoders) (2.8.0)\n",
      "Requirement already satisfied: pytz>=2017.2 in c:\\users\\sofib\\appdata\\local\\continuum\\anaconda3\\lib\\site-packages (from pandas>=0.21.1->category-encoders) (2019.3)\n",
      "Installing collected packages: category-encoders\n",
      "Successfully installed category-encoders-2.1.0\n"
     ]
    },
    {
     "name": "stderr",
     "output_type": "stream",
     "text": [
      "  WARNING: Retrying (Retry(total=4, connect=None, read=None, redirect=None, status=None)) after connection broken by 'NewConnectionError('<pip._vendor.urllib3.connection.VerifiedHTTPSConnection object at 0x000002A26B70C248>: Failed to establish a new connection: [Errno 11002] getaddrinfo failed')': /packages/a0/52/c54191ad3782de633ea3d6ee3bb2837bda0cf3bc97644bb6375cf14150a0/category_encoders-2.1.0-py2.py3-none-any.whl\n"
     ]
    }
   ],
   "source": [
    "!pip install category-encoders"
   ]
  },
  {
   "cell_type": "code",
   "execution_count": 4,
   "metadata": {},
   "outputs": [
    {
     "name": "stdout",
     "output_type": "stream",
     "text": [
      "Collecting lightgbm\n",
      "  Downloading https://files.pythonhosted.org/packages/c7/0b/a183c06e7778893b2f12bb3e2cdab57f142b4e49cd25cc643047f714e74c/lightgbm-2.3.0-py2.py3-none-win_amd64.whl (543kB)\n",
      "Requirement already satisfied: scipy in c:\\users\\sofib\\appdata\\local\\continuum\\anaconda3\\lib\\site-packages (from lightgbm) (1.3.1)\n",
      "Requirement already satisfied: scikit-learn in c:\\users\\sofib\\appdata\\local\\continuum\\anaconda3\\lib\\site-packages (from lightgbm) (0.21.3)\n",
      "Requirement already satisfied: numpy in c:\\users\\sofib\\appdata\\local\\continuum\\anaconda3\\lib\\site-packages (from lightgbm) (1.16.5)\n",
      "Requirement already satisfied: joblib>=0.11 in c:\\users\\sofib\\appdata\\local\\continuum\\anaconda3\\lib\\site-packages (from scikit-learn->lightgbm) (0.13.2)\n",
      "Installing collected packages: lightgbm\n",
      "Successfully installed lightgbm-2.3.0\n"
     ]
    }
   ],
   "source": [
    "!pip install lightgbm"
   ]
  },
  {
   "cell_type": "code",
   "execution_count": 1,
   "metadata": {},
   "outputs": [],
   "source": [
    "import os\n",
    "import numpy as np\n",
    "import pandas as pd\n",
    "from sklearn.model_selection import train_test_split \n",
    "from sklearn import metrics\n",
    "from category_encoders import TargetEncoder\n",
    "import lightgbm as lgb"
   ]
  },
  {
   "cell_type": "code",
   "execution_count": 2,
   "metadata": {},
   "outputs": [],
   "source": [
    "instance = None\n",
    "target = 'Total Yearly Income [EUR]'\n",
    "training_columns = [\n",
    "    'Year of Record',\n",
    "    'Age',\n",
    "    'Gender',\n",
    "    'Country',\n",
    "    'Size of City',\n",
    "    'Housing Situation',\n",
    "    'University Degree',\n",
    "    'Crime Level in the City of Employement',\n",
    "    'Work Experience in Current Job [years]',\n",
    "    'Satisfation with employer',\n",
    "    'Yearly Income in addition to Salary (e.g. Rental Income)',\n",
    "    'Wears Glasses',\n",
    "    'Hair Color',\n",
    "    'Profession',\n",
    "    'Body Height [cm]',\n",
    "    target\n",
    "]"
   ]
  },
  {
   "cell_type": "code",
   "execution_count": 3,
   "metadata": {},
   "outputs": [],
   "source": [
    "def read_data():\n",
    "    training_df = pd.read_csv('./tcd-ml-comp-201920-income-pred-group/tcd-ml-1920-group-income-train.csv')\n",
    "    test_df = pd.read_csv('./tcd-ml-comp-201920-income-pred-group/tcd-ml-1920-group-income-test.csv')\n",
    "    instance = test_df['Instance']\n",
    "    return training_df, test_df"
   ]
  },
  {
   "cell_type": "code",
   "execution_count": 4,
   "metadata": {},
   "outputs": [],
   "source": [
    "def preprocessing(df):\n",
    "    df = df[training_columns]\n",
    "    preprocess_gender(df)\n",
    "    preprocess_year_of_record(df)\n",
    "    preprocess_age(df)\n",
    "    preprocess_university_degree(df)\n",
    "    preprocess_housing_situation(df)\n",
    "    preprocess_work_experience(df)\n",
    "    preprocess_satisfaction_with_employer(df)\n",
    "    preprocess_extra_income(df)\n",
    "    preprocess_crime_level(df)\n",
    "    preprocess_haircolor(df)\n",
    "    preprocess_profession(df)\n",
    "    drop_wears_glasses(df)\n",
    "    return df  "
   ]
  },
  {
   "cell_type": "code",
   "execution_count": 5,
   "metadata": {},
   "outputs": [],
   "source": [
    "def preprocess_profession(df):\n",
    "    df['Profession'].fillna('unknown', inplace=True)"
   ]
  },
  {
   "cell_type": "code",
   "execution_count": 6,
   "metadata": {},
   "outputs": [],
   "source": [
    "def preprocess_gender(df):\n",
    "    df['Gender'].replace('0', 'unknown', inplace = True)\n",
    "    df['Gender'].fillna('unknown', inplace=True)"
   ]
  },
  {
   "cell_type": "code",
   "execution_count": 7,
   "metadata": {},
   "outputs": [],
   "source": [
    "def preprocess_year_of_record(df):\n",
    "    df['Year of Record'].fillna(df['Year of Record'].median(), inplace=True)"
   ]
  },
  {
   "cell_type": "code",
   "execution_count": 8,
   "metadata": {},
   "outputs": [],
   "source": [
    "def preprocess_age(df):\n",
    "    df['Age'].fillna(df['Age'].median(), inplace=True)"
   ]
  },
  {
   "cell_type": "code",
   "execution_count": 9,
   "metadata": {},
   "outputs": [],
   "source": [
    "def preprocess_university_degree(df):\n",
    "    df[\"University Degree\"].replace('0', 'No', inplace=True)\n",
    "    df['University Degree'].fillna('unknown', inplace=True)"
   ]
  },
  {
   "cell_type": "code",
   "execution_count": 10,
   "metadata": {},
   "outputs": [],
   "source": [
    "def preprocess_housing_situation(df):\n",
    "    df[\"Housing Situation\"].replace('0', 'unknown', inplace=True)\n",
    "    df[\"Housing Situation\"].replace(0, 'unknown', inplace=True)\n",
    "    df[\"Housing Situation\"].replace('nA', 'unknown', inplace=True)\n",
    "    df['Housing Situation'].fillna('unknown', inplace=True)"
   ]
  },
  {
   "cell_type": "code",
   "execution_count": 11,
   "metadata": {},
   "outputs": [],
   "source": [
    "def preprocess_work_experience(df):\n",
    "    df['Work Experience in Current Job [years]'].replace('#NUM!', '0', inplace=True)\n",
    "    work_ex = [float(x) for x in df['Work Experience in Current Job [years]']]\n",
    "    df['Work Experience in Current Job [years]'] = work_ex\n",
    "    df['Work Experience in Current Job [years]'].fillna(df['Work Experience in Current Job [years]'].median(), inplace=True)"
   ]
  },
  {
   "cell_type": "code",
   "execution_count": 12,
   "metadata": {},
   "outputs": [],
   "source": [
    "def preprocess_satisfaction_with_employer(df):\n",
    "    df['Satisfation with employer'].fillna('unknown', inplace=True)"
   ]
  },
  {
   "cell_type": "code",
   "execution_count": 13,
   "metadata": {},
   "outputs": [],
   "source": [
    "def preprocess_extra_income(df):\n",
    "    extra = [x.replace(' EUR', '') for x in df['Yearly Income in addition to Salary (e.g. Rental Income)']]\n",
    "    numerical_extra = [float(x) for x in extra]\n",
    "    df['Yearly Income in addition to Salary (e.g. Rental Income)'] = numerical_extra\n",
    "    df['Yearly Income in addition to Salary (e.g. Rental Income)'].fillna(df['Yearly Income in addition to Salary (e.g. Rental Income)'].median(), inplace=True)"
   ]
  },
  {
   "cell_type": "code",
   "execution_count": 14,
   "metadata": {},
   "outputs": [],
   "source": [
    "def preprocess_crime_level(df):\n",
    "    df['Crime Level in the City of Employement'].fillna(df['Crime Level in the City of Employement'].median(), inplace=True)"
   ]
  },
  {
   "cell_type": "code",
   "execution_count": 15,
   "metadata": {},
   "outputs": [],
   "source": [
    "def preprocess_haircolor(df):\n",
    "    df['Hair Color'].fillna('unknown', inplace=True)\n",
    "    df.drop(['Hair Color'], axis=1, inplace=True)"
   ]
  },
  {
   "cell_type": "code",
   "execution_count": 16,
   "metadata": {},
   "outputs": [],
   "source": [
    "def drop_wears_glasses(df):\n",
    "    df.drop(['Wears Glasses'], axis=1, inplace=True)"
   ]
  },
  {
   "cell_type": "markdown",
   "metadata": {},
   "source": [
    "# Read Training and Test Data"
   ]
  },
  {
   "cell_type": "code",
   "execution_count": 18,
   "metadata": {},
   "outputs": [
    {
     "name": "stderr",
     "output_type": "stream",
     "text": [
      "C:\\Users\\sofib\\AppData\\Local\\Continuum\\anaconda3\\lib\\site-packages\\IPython\\core\\interactiveshell.py:3249: DtypeWarning: Columns (2,4) have mixed types. Specify dtype option on import or set low_memory=False.\n",
      "  if (await self.run_code(code, result,  async_=asy)):\n",
      "C:\\Users\\sofib\\AppData\\Local\\Continuum\\anaconda3\\lib\\site-packages\\IPython\\core\\interactiveshell.py:3249: DtypeWarning: Columns (4) have mixed types. Specify dtype option on import or set low_memory=False.\n",
      "  if (await self.run_code(code, result,  async_=asy)):\n"
     ]
    }
   ],
   "source": [
    "training_df, test_df = read_data()"
   ]
  },
  {
   "cell_type": "markdown",
   "metadata": {},
   "source": [
    "# Preprocess the data"
   ]
  },
  {
   "cell_type": "code",
   "execution_count": 19,
   "metadata": {},
   "outputs": [
    {
     "name": "stderr",
     "output_type": "stream",
     "text": [
      "C:\\Users\\sofib\\AppData\\Local\\Continuum\\anaconda3\\lib\\site-packages\\pandas\\core\\generic.py:6786: SettingWithCopyWarning: \n",
      "A value is trying to be set on a copy of a slice from a DataFrame\n",
      "\n",
      "See the caveats in the documentation: http://pandas.pydata.org/pandas-docs/stable/user_guide/indexing.html#returning-a-view-versus-a-copy\n",
      "  self._update_inplace(new_data)\n",
      "C:\\Users\\sofib\\AppData\\Local\\Continuum\\anaconda3\\lib\\site-packages\\pandas\\core\\generic.py:6287: SettingWithCopyWarning: \n",
      "A value is trying to be set on a copy of a slice from a DataFrame\n",
      "\n",
      "See the caveats in the documentation: http://pandas.pydata.org/pandas-docs/stable/user_guide/indexing.html#returning-a-view-versus-a-copy\n",
      "  self._update_inplace(new_data)\n",
      "C:\\Users\\sofib\\AppData\\Local\\Continuum\\anaconda3\\lib\\site-packages\\ipykernel_launcher.py:4: SettingWithCopyWarning: \n",
      "A value is trying to be set on a copy of a slice from a DataFrame.\n",
      "Try using .loc[row_indexer,col_indexer] = value instead\n",
      "\n",
      "See the caveats in the documentation: http://pandas.pydata.org/pandas-docs/stable/user_guide/indexing.html#returning-a-view-versus-a-copy\n",
      "  after removing the cwd from sys.path.\n",
      "C:\\Users\\sofib\\AppData\\Local\\Continuum\\anaconda3\\lib\\site-packages\\pandas\\core\\frame.py:4102: SettingWithCopyWarning: \n",
      "A value is trying to be set on a copy of a slice from a DataFrame\n",
      "\n",
      "See the caveats in the documentation: http://pandas.pydata.org/pandas-docs/stable/user_guide/indexing.html#returning-a-view-versus-a-copy\n",
      "  errors=errors,\n"
     ]
    }
   ],
   "source": [
    "training_data_preprocessed = preprocessing(training_df)\n",
    "test_data_preprocessed = preprocessing(test_df)"
   ]
  },
  {
   "cell_type": "code",
   "execution_count": 24,
   "metadata": {},
   "outputs": [
    {
     "data": {
      "text/html": [
       "<div>\n",
       "<style scoped>\n",
       "    .dataframe tbody tr th:only-of-type {\n",
       "        vertical-align: middle;\n",
       "    }\n",
       "\n",
       "    .dataframe tbody tr th {\n",
       "        vertical-align: top;\n",
       "    }\n",
       "\n",
       "    .dataframe thead th {\n",
       "        text-align: right;\n",
       "    }\n",
       "</style>\n",
       "<table border=\"1\" class=\"dataframe\">\n",
       "  <thead>\n",
       "    <tr style=\"text-align: right;\">\n",
       "      <th></th>\n",
       "      <th>Year of Record</th>\n",
       "      <th>Age</th>\n",
       "      <th>Gender</th>\n",
       "      <th>Country</th>\n",
       "      <th>Size of City</th>\n",
       "      <th>Housing Situation</th>\n",
       "      <th>University Degree</th>\n",
       "      <th>Crime Level in the City of Employement</th>\n",
       "      <th>Work Experience in Current Job [years]</th>\n",
       "      <th>Satisfation with employer</th>\n",
       "      <th>Yearly Income in addition to Salary (e.g. Rental Income)</th>\n",
       "      <th>Profession</th>\n",
       "      <th>Body Height [cm]</th>\n",
       "      <th>Total Yearly Income [EUR]</th>\n",
       "    </tr>\n",
       "  </thead>\n",
       "  <tbody>\n",
       "    <tr>\n",
       "      <td>0</td>\n",
       "      <td>1940.0</td>\n",
       "      <td>45</td>\n",
       "      <td>other</td>\n",
       "      <td>Afghanistan</td>\n",
       "      <td>25179</td>\n",
       "      <td>unknown</td>\n",
       "      <td>No</td>\n",
       "      <td>33</td>\n",
       "      <td>17.0</td>\n",
       "      <td>Unhappy</td>\n",
       "      <td>0.0</td>\n",
       "      <td>group head</td>\n",
       "      <td>182</td>\n",
       "      <td>6182.05</td>\n",
       "    </tr>\n",
       "    <tr>\n",
       "      <td>1</td>\n",
       "      <td>1940.0</td>\n",
       "      <td>17</td>\n",
       "      <td>female</td>\n",
       "      <td>Afghanistan</td>\n",
       "      <td>2278204</td>\n",
       "      <td>unknown</td>\n",
       "      <td>No</td>\n",
       "      <td>25</td>\n",
       "      <td>4.9</td>\n",
       "      <td>Unhappy</td>\n",
       "      <td>0.0</td>\n",
       "      <td>heavy vehicle and mobile equipment service tec...</td>\n",
       "      <td>172</td>\n",
       "      <td>6819.69</td>\n",
       "    </tr>\n",
       "    <tr>\n",
       "      <td>2</td>\n",
       "      <td>1940.0</td>\n",
       "      <td>48</td>\n",
       "      <td>female</td>\n",
       "      <td>Afghanistan</td>\n",
       "      <td>822134</td>\n",
       "      <td>unknown</td>\n",
       "      <td>Bachelor</td>\n",
       "      <td>34</td>\n",
       "      <td>21.0</td>\n",
       "      <td>Unhappy</td>\n",
       "      <td>0.0</td>\n",
       "      <td>sorter</td>\n",
       "      <td>144</td>\n",
       "      <td>8663.53</td>\n",
       "    </tr>\n",
       "    <tr>\n",
       "      <td>3</td>\n",
       "      <td>1940.0</td>\n",
       "      <td>42</td>\n",
       "      <td>female</td>\n",
       "      <td>Albania</td>\n",
       "      <td>59477</td>\n",
       "      <td>unknown</td>\n",
       "      <td>No</td>\n",
       "      <td>70</td>\n",
       "      <td>18.0</td>\n",
       "      <td>Average</td>\n",
       "      <td>0.0</td>\n",
       "      <td>quality control senior engineer</td>\n",
       "      <td>152</td>\n",
       "      <td>2400.64</td>\n",
       "    </tr>\n",
       "    <tr>\n",
       "      <td>4</td>\n",
       "      <td>1940.0</td>\n",
       "      <td>15</td>\n",
       "      <td>other</td>\n",
       "      <td>Albania</td>\n",
       "      <td>23494</td>\n",
       "      <td>unknown</td>\n",
       "      <td>Master</td>\n",
       "      <td>51</td>\n",
       "      <td>8.0</td>\n",
       "      <td>Happy</td>\n",
       "      <td>0.0</td>\n",
       "      <td>logistician</td>\n",
       "      <td>180</td>\n",
       "      <td>2816.18</td>\n",
       "    </tr>\n",
       "  </tbody>\n",
       "</table>\n",
       "</div>"
      ],
      "text/plain": [
       "   Year of Record  Age  Gender      Country  Size of City Housing Situation  \\\n",
       "0          1940.0   45   other  Afghanistan         25179           unknown   \n",
       "1          1940.0   17  female  Afghanistan       2278204           unknown   \n",
       "2          1940.0   48  female  Afghanistan        822134           unknown   \n",
       "3          1940.0   42  female      Albania         59477           unknown   \n",
       "4          1940.0   15   other      Albania         23494           unknown   \n",
       "\n",
       "  University Degree  Crime Level in the City of Employement  \\\n",
       "0                No                                      33   \n",
       "1                No                                      25   \n",
       "2          Bachelor                                      34   \n",
       "3                No                                      70   \n",
       "4            Master                                      51   \n",
       "\n",
       "   Work Experience in Current Job [years] Satisfation with employer  \\\n",
       "0                                    17.0                   Unhappy   \n",
       "1                                     4.9                   Unhappy   \n",
       "2                                    21.0                   Unhappy   \n",
       "3                                    18.0                   Average   \n",
       "4                                     8.0                     Happy   \n",
       "\n",
       "   Yearly Income in addition to Salary (e.g. Rental Income)  \\\n",
       "0                                                0.0          \n",
       "1                                                0.0          \n",
       "2                                                0.0          \n",
       "3                                                0.0          \n",
       "4                                                0.0          \n",
       "\n",
       "                                          Profession  Body Height [cm]  \\\n",
       "0                                         group head               182   \n",
       "1  heavy vehicle and mobile equipment service tec...               172   \n",
       "2                                             sorter               144   \n",
       "3                    quality control senior engineer               152   \n",
       "4                                        logistician               180   \n",
       "\n",
       "   Total Yearly Income [EUR]  \n",
       "0                    6182.05  \n",
       "1                    6819.69  \n",
       "2                    8663.53  \n",
       "3                    2400.64  \n",
       "4                    2816.18  "
      ]
     },
     "execution_count": 24,
     "metadata": {},
     "output_type": "execute_result"
    }
   ],
   "source": [
    "training_data_preprocessed.head()"
   ]
  },
  {
   "cell_type": "code",
   "execution_count": 25,
   "metadata": {},
   "outputs": [
    {
     "data": {
      "text/html": [
       "<div>\n",
       "<style scoped>\n",
       "    .dataframe tbody tr th:only-of-type {\n",
       "        vertical-align: middle;\n",
       "    }\n",
       "\n",
       "    .dataframe tbody tr th {\n",
       "        vertical-align: top;\n",
       "    }\n",
       "\n",
       "    .dataframe thead th {\n",
       "        text-align: right;\n",
       "    }\n",
       "</style>\n",
       "<table border=\"1\" class=\"dataframe\">\n",
       "  <thead>\n",
       "    <tr style=\"text-align: right;\">\n",
       "      <th></th>\n",
       "      <th>Year of Record</th>\n",
       "      <th>Age</th>\n",
       "      <th>Gender</th>\n",
       "      <th>Country</th>\n",
       "      <th>Size of City</th>\n",
       "      <th>Housing Situation</th>\n",
       "      <th>University Degree</th>\n",
       "      <th>Crime Level in the City of Employement</th>\n",
       "      <th>Work Experience in Current Job [years]</th>\n",
       "      <th>Satisfation with employer</th>\n",
       "      <th>Yearly Income in addition to Salary (e.g. Rental Income)</th>\n",
       "      <th>Profession</th>\n",
       "      <th>Body Height [cm]</th>\n",
       "      <th>Total Yearly Income [EUR]</th>\n",
       "    </tr>\n",
       "  </thead>\n",
       "  <tbody>\n",
       "    <tr>\n",
       "      <td>0</td>\n",
       "      <td>1994.0</td>\n",
       "      <td>23</td>\n",
       "      <td>other</td>\n",
       "      <td>Serbia</td>\n",
       "      <td>734369</td>\n",
       "      <td>Small House</td>\n",
       "      <td>Bachelor</td>\n",
       "      <td>23</td>\n",
       "      <td>12.0</td>\n",
       "      <td>Average</td>\n",
       "      <td>0.0</td>\n",
       "      <td>quality assurance specialist</td>\n",
       "      <td>151</td>\n",
       "      <td>NaN</td>\n",
       "    </tr>\n",
       "    <tr>\n",
       "      <td>1</td>\n",
       "      <td>1964.0</td>\n",
       "      <td>44</td>\n",
       "      <td>unknown</td>\n",
       "      <td>Austria</td>\n",
       "      <td>897352</td>\n",
       "      <td>Castle</td>\n",
       "      <td>Master</td>\n",
       "      <td>16</td>\n",
       "      <td>20.0</td>\n",
       "      <td>Average</td>\n",
       "      <td>0.0</td>\n",
       "      <td>student data analyst</td>\n",
       "      <td>181</td>\n",
       "      <td>NaN</td>\n",
       "    </tr>\n",
       "    <tr>\n",
       "      <td>2</td>\n",
       "      <td>1974.0</td>\n",
       "      <td>21</td>\n",
       "      <td>unknown</td>\n",
       "      <td>Serbia</td>\n",
       "      <td>766</td>\n",
       "      <td>Large House</td>\n",
       "      <td>Bachelor</td>\n",
       "      <td>22</td>\n",
       "      <td>11.0</td>\n",
       "      <td>Average</td>\n",
       "      <td>0.0</td>\n",
       "      <td>project manager</td>\n",
       "      <td>179</td>\n",
       "      <td>NaN</td>\n",
       "    </tr>\n",
       "    <tr>\n",
       "      <td>3</td>\n",
       "      <td>1997.0</td>\n",
       "      <td>24</td>\n",
       "      <td>male</td>\n",
       "      <td>Sierra Leone</td>\n",
       "      <td>1150488</td>\n",
       "      <td>Large Apartment</td>\n",
       "      <td>Bachelor</td>\n",
       "      <td>41</td>\n",
       "      <td>14.0</td>\n",
       "      <td>Average</td>\n",
       "      <td>0.0</td>\n",
       "      <td>staff engineer / architect</td>\n",
       "      <td>201</td>\n",
       "      <td>NaN</td>\n",
       "    </tr>\n",
       "    <tr>\n",
       "      <td>4</td>\n",
       "      <td>1949.0</td>\n",
       "      <td>42</td>\n",
       "      <td>male</td>\n",
       "      <td>Ecuador</td>\n",
       "      <td>98532</td>\n",
       "      <td>unknown</td>\n",
       "      <td>No</td>\n",
       "      <td>22</td>\n",
       "      <td>17.0</td>\n",
       "      <td>Happy</td>\n",
       "      <td>0.0</td>\n",
       "      <td>machinist</td>\n",
       "      <td>163</td>\n",
       "      <td>NaN</td>\n",
       "    </tr>\n",
       "  </tbody>\n",
       "</table>\n",
       "</div>"
      ],
      "text/plain": [
       "   Year of Record  Age   Gender       Country  Size of City Housing Situation  \\\n",
       "0          1994.0   23    other        Serbia        734369       Small House   \n",
       "1          1964.0   44  unknown       Austria        897352            Castle   \n",
       "2          1974.0   21  unknown        Serbia           766       Large House   \n",
       "3          1997.0   24     male  Sierra Leone       1150488   Large Apartment   \n",
       "4          1949.0   42     male       Ecuador         98532           unknown   \n",
       "\n",
       "  University Degree  Crime Level in the City of Employement  \\\n",
       "0          Bachelor                                      23   \n",
       "1            Master                                      16   \n",
       "2          Bachelor                                      22   \n",
       "3          Bachelor                                      41   \n",
       "4                No                                      22   \n",
       "\n",
       "   Work Experience in Current Job [years] Satisfation with employer  \\\n",
       "0                                    12.0                   Average   \n",
       "1                                    20.0                   Average   \n",
       "2                                    11.0                   Average   \n",
       "3                                    14.0                   Average   \n",
       "4                                    17.0                     Happy   \n",
       "\n",
       "   Yearly Income in addition to Salary (e.g. Rental Income)  \\\n",
       "0                                                0.0          \n",
       "1                                                0.0          \n",
       "2                                                0.0          \n",
       "3                                                0.0          \n",
       "4                                                0.0          \n",
       "\n",
       "                     Profession  Body Height [cm]  Total Yearly Income [EUR]  \n",
       "0  quality assurance specialist               151                        NaN  \n",
       "1          student data analyst               181                        NaN  \n",
       "2               project manager               179                        NaN  \n",
       "3    staff engineer / architect               201                        NaN  \n",
       "4                     machinist               163                        NaN  "
      ]
     },
     "execution_count": 25,
     "metadata": {},
     "output_type": "execute_result"
    }
   ],
   "source": [
    "test_data_preprocessed.head()"
   ]
  },
  {
   "cell_type": "code",
   "execution_count": 22,
   "metadata": {},
   "outputs": [
    {
     "data": {
      "text/html": [
       "<div>\n",
       "<style scoped>\n",
       "    .dataframe tbody tr th:only-of-type {\n",
       "        vertical-align: middle;\n",
       "    }\n",
       "\n",
       "    .dataframe tbody tr th {\n",
       "        vertical-align: top;\n",
       "    }\n",
       "\n",
       "    .dataframe thead th {\n",
       "        text-align: right;\n",
       "    }\n",
       "</style>\n",
       "<table border=\"1\" class=\"dataframe\">\n",
       "  <thead>\n",
       "    <tr style=\"text-align: right;\">\n",
       "      <th></th>\n",
       "      <th>Year of Record</th>\n",
       "      <th>Age</th>\n",
       "      <th>Gender</th>\n",
       "      <th>Country</th>\n",
       "      <th>Size of City</th>\n",
       "      <th>Housing Situation</th>\n",
       "      <th>University Degree</th>\n",
       "      <th>Crime Level in the City of Employement</th>\n",
       "      <th>Work Experience in Current Job [years]</th>\n",
       "      <th>Satisfation with employer</th>\n",
       "      <th>Yearly Income in addition to Salary (e.g. Rental Income)</th>\n",
       "      <th>Profession</th>\n",
       "      <th>Body Height [cm]</th>\n",
       "      <th>Total Yearly Income [EUR]</th>\n",
       "    </tr>\n",
       "  </thead>\n",
       "  <tbody>\n",
       "    <tr>\n",
       "      <td>0</td>\n",
       "      <td>1994.0</td>\n",
       "      <td>23</td>\n",
       "      <td>other</td>\n",
       "      <td>Serbia</td>\n",
       "      <td>734369</td>\n",
       "      <td>Small House</td>\n",
       "      <td>Bachelor</td>\n",
       "      <td>23</td>\n",
       "      <td>12.0</td>\n",
       "      <td>Average</td>\n",
       "      <td>0.0</td>\n",
       "      <td>quality assurance specialist</td>\n",
       "      <td>151</td>\n",
       "      <td>NaN</td>\n",
       "    </tr>\n",
       "    <tr>\n",
       "      <td>1</td>\n",
       "      <td>1964.0</td>\n",
       "      <td>44</td>\n",
       "      <td>unknown</td>\n",
       "      <td>Austria</td>\n",
       "      <td>897352</td>\n",
       "      <td>Castle</td>\n",
       "      <td>Master</td>\n",
       "      <td>16</td>\n",
       "      <td>20.0</td>\n",
       "      <td>Average</td>\n",
       "      <td>0.0</td>\n",
       "      <td>student data analyst</td>\n",
       "      <td>181</td>\n",
       "      <td>NaN</td>\n",
       "    </tr>\n",
       "    <tr>\n",
       "      <td>2</td>\n",
       "      <td>1974.0</td>\n",
       "      <td>21</td>\n",
       "      <td>unknown</td>\n",
       "      <td>Serbia</td>\n",
       "      <td>766</td>\n",
       "      <td>Large House</td>\n",
       "      <td>Bachelor</td>\n",
       "      <td>22</td>\n",
       "      <td>11.0</td>\n",
       "      <td>Average</td>\n",
       "      <td>0.0</td>\n",
       "      <td>project manager</td>\n",
       "      <td>179</td>\n",
       "      <td>NaN</td>\n",
       "    </tr>\n",
       "    <tr>\n",
       "      <td>3</td>\n",
       "      <td>1997.0</td>\n",
       "      <td>24</td>\n",
       "      <td>male</td>\n",
       "      <td>Sierra Leone</td>\n",
       "      <td>1150488</td>\n",
       "      <td>Large Apartment</td>\n",
       "      <td>Bachelor</td>\n",
       "      <td>41</td>\n",
       "      <td>14.0</td>\n",
       "      <td>Average</td>\n",
       "      <td>0.0</td>\n",
       "      <td>staff engineer / architect</td>\n",
       "      <td>201</td>\n",
       "      <td>NaN</td>\n",
       "    </tr>\n",
       "    <tr>\n",
       "      <td>4</td>\n",
       "      <td>1949.0</td>\n",
       "      <td>42</td>\n",
       "      <td>male</td>\n",
       "      <td>Ecuador</td>\n",
       "      <td>98532</td>\n",
       "      <td>unknown</td>\n",
       "      <td>No</td>\n",
       "      <td>22</td>\n",
       "      <td>17.0</td>\n",
       "      <td>Happy</td>\n",
       "      <td>0.0</td>\n",
       "      <td>machinist</td>\n",
       "      <td>163</td>\n",
       "      <td>NaN</td>\n",
       "    </tr>\n",
       "  </tbody>\n",
       "</table>\n",
       "</div>"
      ],
      "text/plain": [
       "   Year of Record  Age   Gender       Country  Size of City Housing Situation  \\\n",
       "0          1994.0   23    other        Serbia        734369       Small House   \n",
       "1          1964.0   44  unknown       Austria        897352            Castle   \n",
       "2          1974.0   21  unknown        Serbia           766       Large House   \n",
       "3          1997.0   24     male  Sierra Leone       1150488   Large Apartment   \n",
       "4          1949.0   42     male       Ecuador         98532           unknown   \n",
       "\n",
       "  University Degree  Crime Level in the City of Employement  \\\n",
       "0          Bachelor                                      23   \n",
       "1            Master                                      16   \n",
       "2          Bachelor                                      22   \n",
       "3          Bachelor                                      41   \n",
       "4                No                                      22   \n",
       "\n",
       "   Work Experience in Current Job [years] Satisfation with employer  \\\n",
       "0                                    12.0                   Average   \n",
       "1                                    20.0                   Average   \n",
       "2                                    11.0                   Average   \n",
       "3                                    14.0                   Average   \n",
       "4                                    17.0                     Happy   \n",
       "\n",
       "   Yearly Income in addition to Salary (e.g. Rental Income)  \\\n",
       "0                                                0.0          \n",
       "1                                                0.0          \n",
       "2                                                0.0          \n",
       "3                                                0.0          \n",
       "4                                                0.0          \n",
       "\n",
       "                     Profession  Body Height [cm]  Total Yearly Income [EUR]  \n",
       "0  quality assurance specialist               151                        NaN  \n",
       "1          student data analyst               181                        NaN  \n",
       "2               project manager               179                        NaN  \n",
       "3    staff engineer / architect               201                        NaN  \n",
       "4                     machinist               163                        NaN  "
      ]
     },
     "execution_count": 22,
     "metadata": {},
     "output_type": "execute_result"
    }
   ],
   "source": [
    "test_data_preprocessed.head()"
   ]
  },
  {
   "cell_type": "code",
   "execution_count": 20,
   "metadata": {},
   "outputs": [],
   "source": [
    "y = training_data_preprocessed[target]\n",
    "training_data_preprocessed.drop(target, axis=1, inplace=True)\n",
    "test_data_preprocessed.drop(target, axis=1, inplace=True)"
   ]
  },
  {
   "cell_type": "markdown",
   "metadata": {},
   "source": [
    "# Target Encoding"
   ]
  },
  {
   "cell_type": "code",
   "execution_count": 21,
   "metadata": {},
   "outputs": [],
   "source": [
    "enc = TargetEncoder(cols=['Gender', 'Country', 'Profession', 'University Degree', 'Housing Situation', 'Satisfation with employer'])"
   ]
  },
  {
   "cell_type": "code",
   "execution_count": 22,
   "metadata": {},
   "outputs": [
    {
     "data": {
      "text/plain": [
       "TargetEncoder(cols=['Gender', 'Country', 'Profession', 'University Degree',\n",
       "                    'Housing Situation', 'Satisfation with employer'],\n",
       "              drop_invariant=False, handle_missing='value',\n",
       "              handle_unknown='value', min_samples_leaf=1, return_df=True,\n",
       "              smoothing=1.0, verbose=0)"
      ]
     },
     "execution_count": 22,
     "metadata": {},
     "output_type": "execute_result"
    }
   ],
   "source": [
    "enc.fit(training_data_preprocessed, y)"
   ]
  },
  {
   "cell_type": "code",
   "execution_count": 23,
   "metadata": {},
   "outputs": [],
   "source": [
    "training_data_preprocessed = enc.transform(training_data_preprocessed)\n",
    "test_data_preprocessed = enc.transform(test_data_preprocessed)"
   ]
  },
  {
   "cell_type": "code",
   "execution_count": 24,
   "metadata": {},
   "outputs": [
    {
     "data": {
      "text/html": [
       "<div>\n",
       "<style scoped>\n",
       "    .dataframe tbody tr th:only-of-type {\n",
       "        vertical-align: middle;\n",
       "    }\n",
       "\n",
       "    .dataframe tbody tr th {\n",
       "        vertical-align: top;\n",
       "    }\n",
       "\n",
       "    .dataframe thead th {\n",
       "        text-align: right;\n",
       "    }\n",
       "</style>\n",
       "<table border=\"1\" class=\"dataframe\">\n",
       "  <thead>\n",
       "    <tr style=\"text-align: right;\">\n",
       "      <th></th>\n",
       "      <th>Year of Record</th>\n",
       "      <th>Age</th>\n",
       "      <th>Gender</th>\n",
       "      <th>Country</th>\n",
       "      <th>Size of City</th>\n",
       "      <th>Housing Situation</th>\n",
       "      <th>University Degree</th>\n",
       "      <th>Crime Level in the City of Employement</th>\n",
       "      <th>Work Experience in Current Job [years]</th>\n",
       "      <th>Satisfation with employer</th>\n",
       "      <th>Yearly Income in addition to Salary (e.g. Rental Income)</th>\n",
       "      <th>Profession</th>\n",
       "      <th>Body Height [cm]</th>\n",
       "    </tr>\n",
       "  </thead>\n",
       "  <tbody>\n",
       "    <tr>\n",
       "      <td>0</td>\n",
       "      <td>1940.0</td>\n",
       "      <td>45</td>\n",
       "      <td>71399.961738</td>\n",
       "      <td>191828.953279</td>\n",
       "      <td>25179</td>\n",
       "      <td>9923.185537</td>\n",
       "      <td>60670.032070</td>\n",
       "      <td>33</td>\n",
       "      <td>17.0</td>\n",
       "      <td>157393.908986</td>\n",
       "      <td>0.0</td>\n",
       "      <td>55301.387315</td>\n",
       "      <td>182</td>\n",
       "    </tr>\n",
       "    <tr>\n",
       "      <td>1</td>\n",
       "      <td>1940.0</td>\n",
       "      <td>17</td>\n",
       "      <td>50288.775230</td>\n",
       "      <td>191828.953279</td>\n",
       "      <td>2278204</td>\n",
       "      <td>9923.185537</td>\n",
       "      <td>60670.032070</td>\n",
       "      <td>25</td>\n",
       "      <td>4.9</td>\n",
       "      <td>157393.908986</td>\n",
       "      <td>0.0</td>\n",
       "      <td>62616.405270</td>\n",
       "      <td>172</td>\n",
       "    </tr>\n",
       "    <tr>\n",
       "      <td>2</td>\n",
       "      <td>1940.0</td>\n",
       "      <td>48</td>\n",
       "      <td>50288.775230</td>\n",
       "      <td>191828.953279</td>\n",
       "      <td>822134</td>\n",
       "      <td>9923.185537</td>\n",
       "      <td>68112.302736</td>\n",
       "      <td>34</td>\n",
       "      <td>21.0</td>\n",
       "      <td>157393.908986</td>\n",
       "      <td>0.0</td>\n",
       "      <td>70670.102123</td>\n",
       "      <td>144</td>\n",
       "    </tr>\n",
       "    <tr>\n",
       "      <td>3</td>\n",
       "      <td>1940.0</td>\n",
       "      <td>42</td>\n",
       "      <td>50288.775230</td>\n",
       "      <td>135701.550567</td>\n",
       "      <td>59477</td>\n",
       "      <td>9923.185537</td>\n",
       "      <td>60670.032070</td>\n",
       "      <td>70</td>\n",
       "      <td>18.0</td>\n",
       "      <td>65225.792792</td>\n",
       "      <td>0.0</td>\n",
       "      <td>63171.291534</td>\n",
       "      <td>152</td>\n",
       "    </tr>\n",
       "    <tr>\n",
       "      <td>4</td>\n",
       "      <td>1940.0</td>\n",
       "      <td>15</td>\n",
       "      <td>71399.961738</td>\n",
       "      <td>135701.550567</td>\n",
       "      <td>23494</td>\n",
       "      <td>9923.185537</td>\n",
       "      <td>76785.113519</td>\n",
       "      <td>51</td>\n",
       "      <td>8.0</td>\n",
       "      <td>68667.004068</td>\n",
       "      <td>0.0</td>\n",
       "      <td>66590.907652</td>\n",
       "      <td>180</td>\n",
       "    </tr>\n",
       "  </tbody>\n",
       "</table>\n",
       "</div>"
      ],
      "text/plain": [
       "   Year of Record  Age        Gender        Country  Size of City  \\\n",
       "0          1940.0   45  71399.961738  191828.953279         25179   \n",
       "1          1940.0   17  50288.775230  191828.953279       2278204   \n",
       "2          1940.0   48  50288.775230  191828.953279        822134   \n",
       "3          1940.0   42  50288.775230  135701.550567         59477   \n",
       "4          1940.0   15  71399.961738  135701.550567         23494   \n",
       "\n",
       "   Housing Situation  University Degree  \\\n",
       "0        9923.185537       60670.032070   \n",
       "1        9923.185537       60670.032070   \n",
       "2        9923.185537       68112.302736   \n",
       "3        9923.185537       60670.032070   \n",
       "4        9923.185537       76785.113519   \n",
       "\n",
       "   Crime Level in the City of Employement  \\\n",
       "0                                      33   \n",
       "1                                      25   \n",
       "2                                      34   \n",
       "3                                      70   \n",
       "4                                      51   \n",
       "\n",
       "   Work Experience in Current Job [years]  Satisfation with employer  \\\n",
       "0                                    17.0              157393.908986   \n",
       "1                                     4.9              157393.908986   \n",
       "2                                    21.0              157393.908986   \n",
       "3                                    18.0               65225.792792   \n",
       "4                                     8.0               68667.004068   \n",
       "\n",
       "   Yearly Income in addition to Salary (e.g. Rental Income)    Profession  \\\n",
       "0                                                0.0         55301.387315   \n",
       "1                                                0.0         62616.405270   \n",
       "2                                                0.0         70670.102123   \n",
       "3                                                0.0         63171.291534   \n",
       "4                                                0.0         66590.907652   \n",
       "\n",
       "   Body Height [cm]  \n",
       "0               182  \n",
       "1               172  \n",
       "2               144  \n",
       "3               152  \n",
       "4               180  "
      ]
     },
     "execution_count": 24,
     "metadata": {},
     "output_type": "execute_result"
    }
   ],
   "source": [
    "training_data_preprocessed.head()"
   ]
  },
  {
   "cell_type": "code",
   "execution_count": 25,
   "metadata": {},
   "outputs": [
    {
     "data": {
      "text/html": [
       "<div>\n",
       "<style scoped>\n",
       "    .dataframe tbody tr th:only-of-type {\n",
       "        vertical-align: middle;\n",
       "    }\n",
       "\n",
       "    .dataframe tbody tr th {\n",
       "        vertical-align: top;\n",
       "    }\n",
       "\n",
       "    .dataframe thead th {\n",
       "        text-align: right;\n",
       "    }\n",
       "</style>\n",
       "<table border=\"1\" class=\"dataframe\">\n",
       "  <thead>\n",
       "    <tr style=\"text-align: right;\">\n",
       "      <th></th>\n",
       "      <th>Year of Record</th>\n",
       "      <th>Age</th>\n",
       "      <th>Gender</th>\n",
       "      <th>Country</th>\n",
       "      <th>Size of City</th>\n",
       "      <th>Housing Situation</th>\n",
       "      <th>University Degree</th>\n",
       "      <th>Crime Level in the City of Employement</th>\n",
       "      <th>Work Experience in Current Job [years]</th>\n",
       "      <th>Satisfation with employer</th>\n",
       "      <th>Yearly Income in addition to Salary (e.g. Rental Income)</th>\n",
       "      <th>Profession</th>\n",
       "      <th>Body Height [cm]</th>\n",
       "    </tr>\n",
       "  </thead>\n",
       "  <tbody>\n",
       "    <tr>\n",
       "      <td>0</td>\n",
       "      <td>1994.0</td>\n",
       "      <td>23</td>\n",
       "      <td>71399.961738</td>\n",
       "      <td>55455.055050</td>\n",
       "      <td>734369</td>\n",
       "      <td>77083.612777</td>\n",
       "      <td>68112.302736</td>\n",
       "      <td>23</td>\n",
       "      <td>12.0</td>\n",
       "      <td>65225.792792</td>\n",
       "      <td>0.0</td>\n",
       "      <td>62898.905730</td>\n",
       "      <td>151</td>\n",
       "    </tr>\n",
       "    <tr>\n",
       "      <td>1</td>\n",
       "      <td>1964.0</td>\n",
       "      <td>44</td>\n",
       "      <td>68594.057012</td>\n",
       "      <td>56109.056230</td>\n",
       "      <td>897352</td>\n",
       "      <td>15257.786113</td>\n",
       "      <td>76785.113519</td>\n",
       "      <td>16</td>\n",
       "      <td>20.0</td>\n",
       "      <td>65225.792792</td>\n",
       "      <td>0.0</td>\n",
       "      <td>86835.876816</td>\n",
       "      <td>181</td>\n",
       "    </tr>\n",
       "    <tr>\n",
       "      <td>2</td>\n",
       "      <td>1974.0</td>\n",
       "      <td>21</td>\n",
       "      <td>68594.057012</td>\n",
       "      <td>55455.055050</td>\n",
       "      <td>766</td>\n",
       "      <td>24359.294031</td>\n",
       "      <td>68112.302736</td>\n",
       "      <td>22</td>\n",
       "      <td>11.0</td>\n",
       "      <td>65225.792792</td>\n",
       "      <td>0.0</td>\n",
       "      <td>60978.797749</td>\n",
       "      <td>179</td>\n",
       "    </tr>\n",
       "    <tr>\n",
       "      <td>3</td>\n",
       "      <td>1997.0</td>\n",
       "      <td>24</td>\n",
       "      <td>68722.119911</td>\n",
       "      <td>54394.105047</td>\n",
       "      <td>1150488</td>\n",
       "      <td>152213.276291</td>\n",
       "      <td>68112.302736</td>\n",
       "      <td>41</td>\n",
       "      <td>14.0</td>\n",
       "      <td>65225.792792</td>\n",
       "      <td>0.0</td>\n",
       "      <td>79762.440980</td>\n",
       "      <td>201</td>\n",
       "    </tr>\n",
       "    <tr>\n",
       "      <td>4</td>\n",
       "      <td>1949.0</td>\n",
       "      <td>42</td>\n",
       "      <td>68722.119911</td>\n",
       "      <td>126564.649291</td>\n",
       "      <td>98532</td>\n",
       "      <td>9923.185537</td>\n",
       "      <td>60670.032070</td>\n",
       "      <td>22</td>\n",
       "      <td>17.0</td>\n",
       "      <td>68667.004068</td>\n",
       "      <td>0.0</td>\n",
       "      <td>70288.980982</td>\n",
       "      <td>163</td>\n",
       "    </tr>\n",
       "  </tbody>\n",
       "</table>\n",
       "</div>"
      ],
      "text/plain": [
       "   Year of Record  Age        Gender        Country  Size of City  \\\n",
       "0          1994.0   23  71399.961738   55455.055050        734369   \n",
       "1          1964.0   44  68594.057012   56109.056230        897352   \n",
       "2          1974.0   21  68594.057012   55455.055050           766   \n",
       "3          1997.0   24  68722.119911   54394.105047       1150488   \n",
       "4          1949.0   42  68722.119911  126564.649291         98532   \n",
       "\n",
       "   Housing Situation  University Degree  \\\n",
       "0       77083.612777       68112.302736   \n",
       "1       15257.786113       76785.113519   \n",
       "2       24359.294031       68112.302736   \n",
       "3      152213.276291       68112.302736   \n",
       "4        9923.185537       60670.032070   \n",
       "\n",
       "   Crime Level in the City of Employement  \\\n",
       "0                                      23   \n",
       "1                                      16   \n",
       "2                                      22   \n",
       "3                                      41   \n",
       "4                                      22   \n",
       "\n",
       "   Work Experience in Current Job [years]  Satisfation with employer  \\\n",
       "0                                    12.0               65225.792792   \n",
       "1                                    20.0               65225.792792   \n",
       "2                                    11.0               65225.792792   \n",
       "3                                    14.0               65225.792792   \n",
       "4                                    17.0               68667.004068   \n",
       "\n",
       "   Yearly Income in addition to Salary (e.g. Rental Income)    Profession  \\\n",
       "0                                                0.0         62898.905730   \n",
       "1                                                0.0         86835.876816   \n",
       "2                                                0.0         60978.797749   \n",
       "3                                                0.0         79762.440980   \n",
       "4                                                0.0         70288.980982   \n",
       "\n",
       "   Body Height [cm]  \n",
       "0               151  \n",
       "1               181  \n",
       "2               179  \n",
       "3               201  \n",
       "4               163  "
      ]
     },
     "execution_count": 25,
     "metadata": {},
     "output_type": "execute_result"
    }
   ],
   "source": [
    "test_data_preprocessed.head()"
   ]
  },
  {
   "cell_type": "code",
   "execution_count": null,
   "metadata": {},
   "outputs": [],
   "source": []
  },
  {
   "cell_type": "markdown",
   "metadata": {},
   "source": [
    "# Training the Model"
   ]
  },
  {
   "cell_type": "code",
   "execution_count": 26,
   "metadata": {},
   "outputs": [],
   "source": [
    "Xtrain, Xtest, Ytrain, Ytest = train_test_split(training_data_preprocessed, y, test_size=0.2, random_state=0)"
   ]
  },
  {
   "cell_type": "code",
   "execution_count": 27,
   "metadata": {},
   "outputs": [],
   "source": [
    "y_train_log = np.log(Ytrain)"
   ]
  },
  {
   "cell_type": "code",
   "execution_count": 28,
   "metadata": {},
   "outputs": [],
   "source": [
    "from sklearn.metrics import mean_absolute_error"
   ]
  },
  {
   "cell_type": "markdown",
   "metadata": {},
   "source": [
    "# light gbm"
   ]
  },
  {
   "cell_type": "code",
   "execution_count": 37,
   "metadata": {},
   "outputs": [],
   "source": [
    "# trained the model with different combinations of the following parameters and different number of iterations.\n",
    "trainingData = lgb.Dataset(Xtrain, label=y_train_log)\n",
    "params = {}\n",
    "params['learning_rate'] = 0.01\n",
    "params['boosting_type'] = 'gbdt'\n",
    "params['sub_feature'] = 0.8\n",
    "params['num_leaves'] = 150\n",
    "params['min_data'] = 100\n",
    "params['max_depth'] = 10\n",
    "#params['device_type'] = 'gpu'"
   ]
  },
  {
   "cell_type": "code",
   "execution_count": 38,
   "metadata": {},
   "outputs": [],
   "source": [
    "reg = lgb.train(params, trainingData, 100000)"
   ]
  },
  {
   "cell_type": "code",
   "execution_count": 39,
   "metadata": {},
   "outputs": [],
   "source": [
    "y_pred_lgb = np.exp(reg.predict(Xtest))"
   ]
  },
  {
   "cell_type": "code",
   "execution_count": 40,
   "metadata": {},
   "outputs": [
    {
     "data": {
      "text/plain": [
       "array([162002.48048423,  15516.72363889,  27078.16295782, ...,\n",
       "         1198.65730426,  20042.77540733,  63715.87852642])"
      ]
     },
     "execution_count": 40,
     "metadata": {},
     "output_type": "execute_result"
    }
   ],
   "source": [
    "y_pred_lgb"
   ]
  },
  {
   "cell_type": "code",
   "execution_count": 41,
   "metadata": {},
   "outputs": [
    {
     "data": {
      "text/plain": [
       "8244.965034480228"
      ]
     },
     "execution_count": 41,
     "metadata": {},
     "output_type": "execute_result"
    }
   ],
   "source": [
    "mean_absolute_error(Ytest, y_pred_lgb)"
   ]
  },
  {
   "cell_type": "code",
   "execution_count": 42,
   "metadata": {},
   "outputs": [],
   "source": [
    "y_pred_lgb_actual = np.exp(reg.predict(test_data_preprocessed))"
   ]
  },
  {
   "cell_type": "code",
   "execution_count": 45,
   "metadata": {},
   "outputs": [],
   "source": [
    "submission_df = pd.DataFrame({'Instance': instance, 'Total Yearly Income [EUR]': y_pred_lgb_actual})"
   ]
  },
  {
   "cell_type": "code",
   "execution_count": 46,
   "metadata": {},
   "outputs": [],
   "source": [
    "submission_df.to_csv('Submission_10.csv', index=False)"
   ]
  }
 ],
 "metadata": {
  "kernelspec": {
   "display_name": "Python 3",
   "language": "python",
   "name": "python3"
  },
  "language_info": {
   "codemirror_mode": {
    "name": "ipython",
    "version": 3
   },
   "file_extension": ".py",
   "mimetype": "text/x-python",
   "name": "python",
   "nbconvert_exporter": "python",
   "pygments_lexer": "ipython3",
   "version": "3.7.4"
  }
 },
 "nbformat": 4,
 "nbformat_minor": 2
}
